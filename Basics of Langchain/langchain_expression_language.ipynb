{
 "cells": [
  {
   "cell_type": "markdown",
   "id": "c196c03a",
   "metadata": {},
   "source": [
    "#### Langchain Expression Language\n",
    "Chaining components together"
   ]
  },
  {
   "cell_type": "code",
   "execution_count": 2,
   "id": "b55d4400",
   "metadata": {},
   "outputs": [],
   "source": [
    "\n",
    "import os\n",
    "from dotenv import load_dotenv\n",
    "load_dotenv()\n",
    "\n",
    "import openai\n",
    "openai.api_key = os.getenv(\"OPENAI_API_KEY\")\n",
    "groq_api_key = os.getenv(\"QROQ_API_KEY\")"
   ]
  },
  {
   "cell_type": "code",
   "execution_count": 3,
   "id": "735c80eb",
   "metadata": {},
   "outputs": [
    {
     "data": {
      "text/plain": [
       "'Hey there! 👋  What can I do for you today?\\n'"
      ]
     },
     "execution_count": 3,
     "metadata": {},
     "output_type": "execute_result"
    }
   ],
   "source": [
    "from langchain_openai import ChatOpenAI\n",
    "from langchain_groq import ChatGroq\n",
    "model = ChatGroq(model = \"Gemma2-9b-It\", groq_api_key = groq_api_key)\n",
    "model.invoke(\"Hey there\").content"
   ]
  },
  {
   "cell_type": "code",
   "execution_count": null,
   "id": "4cde47c5",
   "metadata": {},
   "outputs": [],
   "source": [
    "from langchain_core.messages import HumanMessage, SystemMessage\n",
    "\n",
    "messages = [\n",
    "    SystemMessage(content = \"You are a heplful assiatant translate the followint from English to Frech\"),\n",
    "    HumanMessage(content = \"Hello how are you ?\")\n",
    "]\n",
    "\n",
    "response = model.invoke(messages)\n"
   ]
  },
  {
   "cell_type": "code",
   "execution_count": 8,
   "id": "c2b9fd75",
   "metadata": {},
   "outputs": [
    {
     "data": {
      "text/plain": [
       "\"Hello how are you?  in French is:\\n\\n**Bonjour, comment allez-vous ?** \\n\\nHere's a breakdown:\\n\\n* **Bonjour:** Hello\\n* **Comment:** How\\n* **allez-vous:** are you (formal, polite) \\n\\n\\nLet me know if you'd like to translate anything else! 😊 \\n\""
      ]
     },
     "execution_count": 8,
     "metadata": {},
     "output_type": "execute_result"
    }
   ],
   "source": [
    "from langchain_core.output_parsers import StrOutputParser\n",
    "parser = StrOutputParser()\n",
    "parser.invoke(response)"
   ]
  },
  {
   "cell_type": "markdown",
   "id": "043d2846",
   "metadata": {},
   "source": [
    "### Using LCEL"
   ]
  },
  {
   "cell_type": "code",
   "execution_count": 9,
   "id": "46c5c564",
   "metadata": {},
   "outputs": [
    {
     "data": {
      "text/plain": [
       "'The French translation for \"Hello, how are you?\" is:\\n\\n**Bonjour, comment allez-vous ?** \\n\\nThis is a formal way to greet someone.\\n\\nFor a more casual greeting, you could say:\\n\\n**Salut, comment vas-tu ?** (This is used with friends and family)\\n\\n\\nLet me know if you have any other phrases you\\'d like translated!\\n'"
      ]
     },
     "execution_count": 9,
     "metadata": {},
     "output_type": "execute_result"
    }
   ],
   "source": [
    "chain = model | parser\n",
    "chain.invoke(messages)"
   ]
  },
  {
   "cell_type": "code",
   "execution_count": null,
   "id": "b6d1b77e",
   "metadata": {},
   "outputs": [],
   "source": []
  },
  {
   "cell_type": "code",
   "execution_count": 10,
   "metadata": {},
   "outputs": [],
   "source": [
    "### Using Prompt Templates\n",
    "from langchain_core.prompts import ChatPromptTemplate\n",
    "\n",
    "generic_template = \"Translate the following into {language}:\"\n",
    "\n",
    "prompt = ChatPromptTemplate.from_messages(\n",
    "    [(\"system\", generic_template),\n",
    "     (\"user\", \"{text}\")\n",
    "    ]\n",
    ")\n"
   ]
  },
  {
   "cell_type": "code",
   "execution_count": 12,
   "id": "0f45d87d",
   "metadata": {},
   "outputs": [],
   "source": [
    "result = prompt.invoke({\"language\": \"French\", \"text\": \"hello\"})"
   ]
  },
  {
   "cell_type": "code",
   "execution_count": 13,
   "id": "f43f5b8a",
   "metadata": {},
   "outputs": [
    {
     "data": {
      "text/plain": [
       "[SystemMessage(content='Translate the following into French:', additional_kwargs={}, response_metadata={}),\n",
       " HumanMessage(content='hello', additional_kwargs={}, response_metadata={})]"
      ]
     },
     "execution_count": 13,
     "metadata": {},
     "output_type": "execute_result"
    }
   ],
   "source": [
    "result.to_messages()"
   ]
  },
  {
   "cell_type": "code",
   "execution_count": null,
   "id": "3ad2d8ec",
   "metadata": {},
   "outputs": [
    {
     "data": {
      "text/plain": [
       "'Bonjour \\n'"
      ]
     },
     "execution_count": 14,
     "metadata": {},
     "output_type": "execute_result"
    }
   ],
   "source": [
    "#chaining compenents together with lcel\n",
    "chain = prompt | model | parser\n",
    "chain.invoke({\"language\": \"Frech\", \"text\": \"hello\"})"
   ]
  },
  {
   "cell_type": "code",
   "execution_count": null,
   "id": "1cd34cae",
   "metadata": {},
   "outputs": [],
   "source": []
  }
 ],
 "metadata": {
  "kernelspec": {
   "display_name": ".venv",
   "language": "python",
   "name": "python3"
  },
  "language_info": {
   "codemirror_mode": {
    "name": "ipython",
    "version": 3
   },
   "file_extension": ".py",
   "mimetype": "text/x-python",
   "name": "python",
   "nbconvert_exporter": "python",
   "pygments_lexer": "ipython3",
   "version": "3.13.3"
  }
 },
 "nbformat": 4,
 "nbformat_minor": 5
}
